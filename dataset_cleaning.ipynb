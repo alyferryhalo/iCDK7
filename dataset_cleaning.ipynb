{
 "cells": [
  {
   "cell_type": "markdown",
   "id": "5ff0b0ca",
   "metadata": {},
   "source": [
    "# Импорт\n",
    "\n",
    "События в блоке кода:\n",
    "\n",
    "- Импорт необходимых модулей\n",
    "- Загрузка необработанных датасетов"
   ]
  },
  {
   "cell_type": "code",
   "execution_count": 1,
   "id": "e0ffc920",
   "metadata": {},
   "outputs": [],
   "source": [
    "import re\n",
    "\n",
    "import pandas as pd\n",
    "\n",
    "from rdkit import Chem, DataStructs\n",
    "from rdkit.Chem import Draw, Descriptors, AllChem, rdMolDescriptors\n",
    "import rdkit.Chem.AllChem as AllChem"
   ]
  },
  {
   "cell_type": "code",
   "execution_count": 2,
   "id": "c0d77eb2",
   "metadata": {},
   "outputs": [],
   "source": [
    "reaxys = pd.read_csv('reaxys.csv', sep='\\t')\n",
    "chembl = pd.read_csv('chembl.csv', sep='\\t')"
   ]
  },
  {
   "cell_type": "markdown",
   "id": "c168f8aa",
   "metadata": {},
   "source": [
    "# Мишень\n",
    "\n",
    "События в блоке кода:\n",
    "\n",
    "- Отбор только тех строк, которые содержат данные исключительно по СDK7 (вне зависимости от организма)"
   ]
  },
  {
   "cell_type": "code",
   "execution_count": 3,
   "id": "e91348b2",
   "metadata": {},
   "outputs": [],
   "source": [
    "chembl_target = chembl[chembl['Target Name'] == 'Cyclin-dependent kinase 7']\n",
    "\n",
    "reaxys_options = ['Cyclin-dependent kinase 7 [human]', 'Cyclin-dependent kinase 7',\n",
    "                  'Cyclin-dependent kinase 7 [Candida albicans]']\n",
    "reaxys_target = reaxys.loc[reaxys['Target Name'].isin(reaxys_options)]"
   ]
  },
  {
   "cell_type": "markdown",
   "id": "f003c68e",
   "metadata": {},
   "source": [
    "# Параметр\n",
    "\n",
    "События в блоке кода:\n",
    "\n",
    "- Отбор измеренных для соединения параметров\n",
    "\n",
    "Что это за параметры?\n",
    "\n",
    "- **IC50** - концентрация полумаксимального ингибирования (чем ниже, тем активнее)\n",
    "- **EC50** - концентрацию лиганда, которая вызывает эффект, равный половине максимального возможного для данного лиганда (чем ниже, тем активнее)\n",
    "- **pIC50** - отрицательный логарифм IC50"
   ]
  },
  {
   "cell_type": "code",
   "execution_count": 4,
   "id": "e4b87563",
   "metadata": {},
   "outputs": [
    {
     "data": {
      "text/plain": [
       "array(['IC50', 'Inhibition', 'Kd', 'Ki', 'Activity', 'Occ50', 'Ratio',\n",
       "       '% Control', '% Ctrl'], dtype=object)"
      ]
     },
     "execution_count": 4,
     "metadata": {},
     "output_type": "execute_result"
    }
   ],
   "source": [
    "chembl_target['Standard Type'].unique()"
   ]
  },
  {
   "cell_type": "code",
   "execution_count": 5,
   "id": "1af20c67",
   "metadata": {},
   "outputs": [
    {
     "data": {
      "text/plain": [
       "array(['IC50', 'inhibition rate', 'pIC50', 'Ki (inhibition constant)',\n",
       "       'inhibition percentage', 'Kd (dissociation constant)',\n",
       "       'control percentage', 'EC50'], dtype=object)"
      ]
     },
     "execution_count": 5,
     "metadata": {},
     "output_type": "execute_result"
    }
   ],
   "source": [
    "reaxys_target['Medchem: Measurement Parameter'].unique()"
   ]
  },
  {
   "cell_type": "code",
   "execution_count": 6,
   "id": "04ca1abe",
   "metadata": {},
   "outputs": [],
   "source": [
    "chembl_type = chembl_target[chembl_target['Standard Type'] == 'IC50']"
   ]
  },
  {
   "cell_type": "code",
   "execution_count": 7,
   "id": "a2bb3384",
   "metadata": {},
   "outputs": [],
   "source": [
    "reaxys_IC50 = reaxys_target[reaxys_target['Medchem: Measurement Parameter'] == 'IC50']\n",
    "reaxys_EC50 = reaxys_target[reaxys_target['Medchem: Measurement Parameter'] == 'EC50']\n",
    "reaxys_pIC50 = reaxys_target[reaxys_target['Medchem: Measurement Parameter'] == 'pIC50']\n",
    "reaxys_type = pd.concat([reaxys_IC50, reaxys_EC50, reaxys_pIC50], axis=0)"
   ]
  },
  {
   "cell_type": "markdown",
   "id": "3da235a0",
   "metadata": {},
   "source": [
    "# Единицы\n",
    "\n",
    "События в блоке кода:\n",
    "\n",
    "- Конвертация концентраций в наномолярную (по возможности)\n",
    "- Трансформация pIC50 в IC50"
   ]
  },
  {
   "cell_type": "code",
   "execution_count": 8,
   "id": "c0acd7b0",
   "metadata": {},
   "outputs": [
    {
     "data": {
      "text/plain": [
       "nM    294\n",
       "Name: Standard Units, dtype: int64"
      ]
     },
     "execution_count": 8,
     "metadata": {},
     "output_type": "execute_result"
    }
   ],
   "source": [
    "chembl_type['Standard Units'].value_counts()"
   ]
  },
  {
   "cell_type": "code",
   "execution_count": 9,
   "id": "25c35bdf",
   "metadata": {},
   "outputs": [
    {
     "data": {
      "text/plain": [
       "nM         1064\n",
       "μM          527\n",
       "no unit     187\n",
       "µM           15\n",
       "μmol/l        6\n",
       "M             1\n",
       "Name: Unit, dtype: int64"
      ]
     },
     "execution_count": 9,
     "metadata": {},
     "output_type": "execute_result"
    }
   ],
   "source": [
    "reaxys_type['Unit'].value_counts()"
   ]
  },
  {
   "cell_type": "code",
   "execution_count": 10,
   "id": "27ae8f91",
   "metadata": {},
   "outputs": [],
   "source": [
    "chembl_type_nan = chembl_type[chembl_type['Standard Units'].notna()]\n",
    "reaxys_type_nan = reaxys_type[reaxys_type['Unit'].notna()]"
   ]
  },
  {
   "cell_type": "code",
   "execution_count": 11,
   "id": "b50855e5",
   "metadata": {},
   "outputs": [],
   "source": [
    "lower_vals = []\n",
    "upper_vals = []\n",
    "\n",
    "for value in reaxys_type_nan['Quantitative value'].values:\n",
    "    value_listed = list(value.split())\n",
    "    if len(value_listed) > 1:\n",
    "        if value_listed[0] < value_listed[2]:\n",
    "            lower_val = value_listed[0]\n",
    "            upper_val = value_listed[2]\n",
    "            lower_vals.append(lower_val)\n",
    "            upper_vals.append(upper_val)\n",
    "        elif value_listed[0] > value_listed[2]:\n",
    "            lower_val = value_listed[2]\n",
    "            upper_val = value_listed[0]\n",
    "            lower_vals.append(lower_val)\n",
    "            upper_vals.append(upper_val)\n",
    "    else:\n",
    "        lower_vals.append(value_listed)\n",
    "        upper_vals.append(value_listed)"
   ]
  },
  {
   "cell_type": "code",
   "execution_count": 12,
   "id": "db2e3aeb",
   "metadata": {},
   "outputs": [],
   "source": [
    "lower_vals = [float(re.sub(\"[^0-9.]\", \"\", str(i))) for i in lower_vals]\n",
    "upper_vals = [float(re.sub(\"[^0-9.]\", \"\", str(i))) for i in upper_vals]"
   ]
  },
  {
   "cell_type": "code",
   "execution_count": 13,
   "id": "b35bf8cb",
   "metadata": {},
   "outputs": [
    {
     "name": "stderr",
     "output_type": "stream",
     "text": [
      "/var/folders/7f/r6y7pww15x53z42m3h5vt12r0000gn/T/ipykernel_14878/1799842990.py:1: SettingWithCopyWarning: \n",
      "A value is trying to be set on a copy of a slice from a DataFrame.\n",
      "Try using .loc[row_indexer,col_indexer] = value instead\n",
      "\n",
      "See the caveats in the documentation: https://pandas.pydata.org/pandas-docs/stable/user_guide/indexing.html#returning-a-view-versus-a-copy\n",
      "  reaxys_type_nan['lower_vals'] = lower_vals\n",
      "/var/folders/7f/r6y7pww15x53z42m3h5vt12r0000gn/T/ipykernel_14878/1799842990.py:2: SettingWithCopyWarning: \n",
      "A value is trying to be set on a copy of a slice from a DataFrame.\n",
      "Try using .loc[row_indexer,col_indexer] = value instead\n",
      "\n",
      "See the caveats in the documentation: https://pandas.pydata.org/pandas-docs/stable/user_guide/indexing.html#returning-a-view-versus-a-copy\n",
      "  reaxys_type_nan['upper_vals'] = upper_vals\n"
     ]
    }
   ],
   "source": [
    "reaxys_type_nan['lower_vals'] = lower_vals\n",
    "reaxys_type_nan['upper_vals'] = upper_vals"
   ]
  },
  {
   "cell_type": "code",
   "execution_count": 14,
   "id": "8216a88b",
   "metadata": {},
   "outputs": [],
   "source": [
    "def transform(x):\n",
    "    if x[0] in ['nM', 'nmol/l']:\n",
    "        return x[1]\n",
    "    elif x[0] in ['µM', 'μM', 'μmol/l']:\n",
    "        return round(x[1] * 10**3, 1)\n",
    "    elif x[0] == 'mM':\n",
    "        return x[1] * 10**6\n",
    "    elif x[0] == 'pM':\n",
    "        return x[1] / 10**3\n",
    "    elif x[0] in ['M', 'mol/l']:\n",
    "        return x[1] * 10**9\n",
    "    else:\n",
    "        return None"
   ]
  },
  {
   "cell_type": "code",
   "execution_count": 15,
   "id": "9db583f7",
   "metadata": {},
   "outputs": [
    {
     "name": "stderr",
     "output_type": "stream",
     "text": [
      "/var/folders/7f/r6y7pww15x53z42m3h5vt12r0000gn/T/ipykernel_14878/1971237900.py:1: SettingWithCopyWarning: \n",
      "A value is trying to be set on a copy of a slice from a DataFrame.\n",
      "Try using .loc[row_indexer,col_indexer] = value instead\n",
      "\n",
      "See the caveats in the documentation: https://pandas.pydata.org/pandas-docs/stable/user_guide/indexing.html#returning-a-view-versus-a-copy\n",
      "  chembl_type_nan['converted_value'] = chembl_type_nan[['Standard Units', 'Standard Value']].apply(lambda x: transform(x), axis = 1)\n"
     ]
    }
   ],
   "source": [
    "chembl_type_nan['converted_value'] = chembl_type_nan[['Standard Units', 'Standard Value']].apply(lambda x: transform(x), axis = 1)"
   ]
  },
  {
   "cell_type": "code",
   "execution_count": 16,
   "id": "850d70ac",
   "metadata": {},
   "outputs": [
    {
     "name": "stderr",
     "output_type": "stream",
     "text": [
      "/var/folders/7f/r6y7pww15x53z42m3h5vt12r0000gn/T/ipykernel_14878/3775283284.py:1: SettingWithCopyWarning: \n",
      "A value is trying to be set on a copy of a slice from a DataFrame.\n",
      "Try using .loc[row_indexer,col_indexer] = value instead\n",
      "\n",
      "See the caveats in the documentation: https://pandas.pydata.org/pandas-docs/stable/user_guide/indexing.html#returning-a-view-versus-a-copy\n",
      "  reaxys_type_nan['converted_value'] = reaxys_type_nan[['Unit', 'upper_vals']].apply(lambda x: transform(x), axis = 1)\n"
     ]
    }
   ],
   "source": [
    "reaxys_type_nan['converted_value'] = reaxys_type_nan[['Unit', 'upper_vals']].apply(lambda x: transform(x), axis = 1)"
   ]
  },
  {
   "cell_type": "code",
   "execution_count": 17,
   "id": "ac05376b",
   "metadata": {},
   "outputs": [],
   "source": [
    "reaxys_pIC50 = reaxys_type_nan[reaxys_type_nan['Medchem: Measurement Parameter'] == 'pIC50']"
   ]
  },
  {
   "cell_type": "code",
   "execution_count": 18,
   "id": "b7d4218a",
   "metadata": {},
   "outputs": [
    {
     "name": "stderr",
     "output_type": "stream",
     "text": [
      "/var/folders/7f/r6y7pww15x53z42m3h5vt12r0000gn/T/ipykernel_14878/55384314.py:7: SettingWithCopyWarning: \n",
      "A value is trying to be set on a copy of a slice from a DataFrame.\n",
      "Try using .loc[row_indexer,col_indexer] = value instead\n",
      "\n",
      "See the caveats in the documentation: https://pandas.pydata.org/pandas-docs/stable/user_guide/indexing.html#returning-a-view-versus-a-copy\n",
      "  reaxys_pIC50['converted_value'] = IC50_vals\n"
     ]
    }
   ],
   "source": [
    "IC50_vals = []\n",
    "\n",
    "for value in reaxys_pIC50['upper_vals'].values:\n",
    "    IC50 = 10**(9 - float(value))\n",
    "    IC50_vals.append(IC50)\n",
    "    \n",
    "reaxys_pIC50['converted_value'] = IC50_vals"
   ]
  },
  {
   "cell_type": "code",
   "execution_count": 19,
   "id": "d8b40550",
   "metadata": {
    "scrolled": true
   },
   "outputs": [],
   "source": [
    "reaxys_wout_pIC50 = reaxys_type_nan[reaxys_type_nan['Medchem: Measurement Parameter'] != 'pIC50']"
   ]
  },
  {
   "cell_type": "code",
   "execution_count": 20,
   "id": "9228d4cc",
   "metadata": {},
   "outputs": [],
   "source": [
    "reaxys_units_concat = pd.concat([reaxys_wout_pIC50, reaxys_pIC50], axis=0)"
   ]
  },
  {
   "cell_type": "code",
   "execution_count": 21,
   "id": "49b198e8",
   "metadata": {},
   "outputs": [],
   "source": [
    "reaxys = reaxys_units_concat[['SMILES', 'converted_value']]"
   ]
  },
  {
   "cell_type": "code",
   "execution_count": 22,
   "id": "8ee5fbe4",
   "metadata": {},
   "outputs": [],
   "source": [
    "chembl = chembl_type_nan[['Smiles', 'converted_value']]"
   ]
  },
  {
   "cell_type": "code",
   "execution_count": 23,
   "id": "b09ff500",
   "metadata": {},
   "outputs": [],
   "source": [
    "reaxys = reaxys.rename({'SMILES': 'smiles', \n",
    "                        'converted_value': 'value'}, axis=1)\n",
    "\n",
    "chembl = chembl.rename({'Smiles': 'smiles', \n",
    "                        'converted_value': 'value'}, axis=1)"
   ]
  },
  {
   "cell_type": "code",
   "execution_count": 24,
   "id": "beaa5582",
   "metadata": {},
   "outputs": [],
   "source": [
    "data = pd.concat([reaxys, chembl], axis=0)"
   ]
  },
  {
   "cell_type": "markdown",
   "id": "6883c3a3",
   "metadata": {},
   "source": [
    "# Классы\n",
    "\n",
    "События в блоке кода:\n",
    "\n",
    "- Добавление меток классов - если меньше или равно 20 нМ, то соединение можно считать активным"
   ]
  },
  {
   "cell_type": "code",
   "execution_count": 25,
   "id": "4b00ebe5",
   "metadata": {},
   "outputs": [],
   "source": [
    "def set_class(x):\n",
    "    if x['value'] <= 20:\n",
    "        return 1\n",
    "    else:\n",
    "        return 0"
   ]
  },
  {
   "cell_type": "code",
   "execution_count": 26,
   "id": "37d93452",
   "metadata": {},
   "outputs": [],
   "source": [
    "data = data.assign(label=data.apply(set_class, axis=1))"
   ]
  },
  {
   "cell_type": "code",
   "execution_count": 27,
   "id": "9fc3d252",
   "metadata": {},
   "outputs": [
    {
     "data": {
      "text/plain": [
       "0    1704\n",
       "1     390\n",
       "Name: label, dtype: int64"
      ]
     },
     "execution_count": 27,
     "metadata": {},
     "output_type": "execute_result"
    }
   ],
   "source": [
    "data['label'].value_counts()"
   ]
  },
  {
   "cell_type": "code",
   "execution_count": 28,
   "id": "06c192a7",
   "metadata": {},
   "outputs": [],
   "source": [
    "data = data[['smiles', 'label']]"
   ]
  },
  {
   "cell_type": "markdown",
   "id": "8b11bd13",
   "metadata": {},
   "source": [
    "# Молекулы\n",
    "\n",
    "События в блоке кода:\n",
    "\n",
    "- Восстанавление пропущенных значений по индексу Танимото\n",
    "- Отброс повторов молекул"
   ]
  },
  {
   "cell_type": "code",
   "execution_count": 29,
   "id": "4213e9a9",
   "metadata": {},
   "outputs": [],
   "source": [
    "chembl_nans = chembl_type[chembl_type['Standard Value'].isnull()]\n",
    "chembl_nans_smiles = chembl_nans['Smiles'].to_list()\n",
    "\n",
    "chembl_smiles = chembl['smiles'].to_list()"
   ]
  },
  {
   "cell_type": "code",
   "execution_count": 30,
   "id": "af472aa4",
   "metadata": {},
   "outputs": [],
   "source": [
    "reaxys_nans = reaxys_type[reaxys_type['Quantitative value'].isnull()]\n",
    "reaxys_nans_smiles = reaxys_nans['SMILES'].to_list()\n",
    "\n",
    "reaxys_smiles = reaxys['smiles'].to_list()"
   ]
  },
  {
   "cell_type": "code",
   "execution_count": 31,
   "id": "5af1c5c2",
   "metadata": {},
   "outputs": [],
   "source": [
    "researched_smiles = chembl_nans_smiles + reaxys_nans_smiles\n",
    "reference_smiles = chembl_smiles + reaxys_smiles"
   ]
  },
  {
   "cell_type": "code",
   "execution_count": 32,
   "id": "30a0cdb4",
   "metadata": {},
   "outputs": [
    {
     "name": "stderr",
     "output_type": "stream",
     "text": [
      "[11:29:27] Explicit valence for atom # 0 N, 4, is greater than permitted\n",
      "[11:29:27] Explicit valence for atom # 0 N, 4, is greater than permitted\n",
      "[11:29:27] WARNING: not removing hydrogen atom without neighbors\n",
      "[11:29:27] WARNING: not removing hydrogen atom without neighbors\n",
      "[11:29:27] WARNING: not removing hydrogen atom without neighbors\n",
      "[11:29:27] WARNING: not removing hydrogen atom without neighbors\n",
      "[11:29:27] WARNING: not removing hydrogen atom without neighbors\n",
      "[11:29:27] WARNING: not removing hydrogen atom without neighbors\n",
      "[11:29:27] WARNING: not removing hydrogen atom without neighbors\n",
      "[11:29:27] WARNING: not removing hydrogen atom without neighbors\n",
      "[11:29:27] WARNING: not removing hydrogen atom without neighbors\n",
      "[11:29:27] WARNING: not removing hydrogen atom without neighbors\n",
      "[11:29:27] WARNING: not removing hydrogen atom without neighbors\n",
      "[11:29:27] WARNING: not removing hydrogen atom without neighbors\n",
      "[11:29:27] WARNING: not removing hydrogen atom without neighbors\n"
     ]
    }
   ],
   "source": [
    "researched_molecules = []\n",
    "\n",
    "for smi in researched_smiles:\n",
    "    mol = Chem.MolFromSmiles(smi)\n",
    "    if mol is not None:\n",
    "        researched_molecules.append(mol)\n",
    "        \n",
    "reference_molecules = []\n",
    "\n",
    "for smi in reference_smiles:\n",
    "    mol = Chem.MolFromSmiles(smi)\n",
    "    if mol is not None:\n",
    "        reference_molecules.append(mol)"
   ]
  },
  {
   "cell_type": "code",
   "execution_count": 33,
   "id": "1d1ed052",
   "metadata": {},
   "outputs": [],
   "source": [
    "def tanimoto(reference_molecule, researched_molecule):\n",
    "\n",
    "    fp = AllChem.GetMorganFingerprintAsBitVect(reference_molecule, 2, nBits = 1024)\n",
    "    fp2 = AllChem.GetMorganFingerprintAsBitVect(researched_molecule, 2, nBits = 1024)\n",
    "\n",
    "    same_parts = set(fp.GetOnBits()) & set(fp2.GetOnBits()) \n",
    "    different_parts = set(fp.GetOnBits()) | set(fp2.GetOnBits())\n",
    "    \n",
    "    return len(same_parts)/len(different_parts)"
   ]
  },
  {
   "cell_type": "code",
   "execution_count": 34,
   "id": "56e74414",
   "metadata": {},
   "outputs": [],
   "source": [
    "similarity = {}\n",
    "\n",
    "for mol_res in researched_molecules:\n",
    "    tanimoto_list = []\n",
    "    for mol_ref in reference_molecules:\n",
    "        sim = tanimoto(mol_ref, mol_res)\n",
    "        tanimoto_list.append(sim)\n",
    "    sim_max = max(tanimoto_list)\n",
    "    mol_sim_max = reference_molecules[tanimoto_list.index(sim_max)]\n",
    "    similarity[Chem.MolToSmiles(mol_res)] = [Chem.MolToSmiles(mol_sim_max), sim_max]"
   ]
  },
  {
   "cell_type": "code",
   "execution_count": 35,
   "id": "6dff5fd7",
   "metadata": {},
   "outputs": [],
   "source": [
    "ref_smiles = []\n",
    "\n",
    "for key in similarity:\n",
    "    ref_smi = similarity[key][0]\n",
    "    ref_smiles.append(ref_smi)"
   ]
  },
  {
   "cell_type": "code",
   "execution_count": 36,
   "id": "59aca490",
   "metadata": {},
   "outputs": [],
   "source": [
    "res_smiles = list(similarity.keys())"
   ]
  },
  {
   "cell_type": "code",
   "execution_count": 37,
   "id": "ce92813a",
   "metadata": {},
   "outputs": [],
   "source": [
    "ref_labels = {}\n",
    "\n",
    "for smi in ref_smiles:\n",
    "    if smi in reference_smiles:\n",
    "        label = data[data['smiles']==smi]['label'].values[0]\n",
    "        ref_labels[smi] = label"
   ]
  },
  {
   "cell_type": "code",
   "execution_count": 38,
   "id": "e0727fe4",
   "metadata": {},
   "outputs": [],
   "source": [
    "res_labels = [0] * len(res_smiles)"
   ]
  },
  {
   "cell_type": "code",
   "execution_count": 39,
   "id": "999c048a",
   "metadata": {},
   "outputs": [],
   "source": [
    "new_mols = dict(zip(res_smiles, res_labels))"
   ]
  },
  {
   "cell_type": "code",
   "execution_count": 40,
   "id": "cdd4f0a9",
   "metadata": {},
   "outputs": [],
   "source": [
    "new_mols_df = pd.DataFrame(list(new_mols.items()),\n",
    "                      columns=['smiles','label'])"
   ]
  },
  {
   "cell_type": "code",
   "execution_count": 41,
   "id": "dd1df270",
   "metadata": {},
   "outputs": [],
   "source": [
    "data = pd.concat([data, new_mols_df], axis=0)"
   ]
  },
  {
   "cell_type": "code",
   "execution_count": 42,
   "id": "85826584",
   "metadata": {},
   "outputs": [
    {
     "data": {
      "text/html": [
       "<div>\n",
       "<style scoped>\n",
       "    .dataframe tbody tr th:only-of-type {\n",
       "        vertical-align: middle;\n",
       "    }\n",
       "\n",
       "    .dataframe tbody tr th {\n",
       "        vertical-align: top;\n",
       "    }\n",
       "\n",
       "    .dataframe thead th {\n",
       "        text-align: right;\n",
       "    }\n",
       "</style>\n",
       "<table border=\"1\" class=\"dataframe\">\n",
       "  <thead>\n",
       "    <tr style=\"text-align: right;\">\n",
       "      <th></th>\n",
       "      <th>smiles</th>\n",
       "      <th>label</th>\n",
       "    </tr>\n",
       "  </thead>\n",
       "  <tbody>\n",
       "    <tr>\n",
       "      <th>0</th>\n",
       "      <td>COC1=C2C(=O)C3=C(C(O)=C4C[C@](O)(C[C@H](O[C@H]...</td>\n",
       "      <td>0</td>\n",
       "    </tr>\n",
       "    <tr>\n",
       "      <th>1</th>\n",
       "      <td>COC1=C2C(=O)C3=C(C(O)=C4C[C@](O)(C[C@H](O[C@H]...</td>\n",
       "      <td>0</td>\n",
       "    </tr>\n",
       "    <tr>\n",
       "      <th>8</th>\n",
       "      <td>[NH3][Pt]1([NH3])OC(=O)C2(CCC2)C(=O)O1</td>\n",
       "      <td>0</td>\n",
       "    </tr>\n",
       "    <tr>\n",
       "      <th>9</th>\n",
       "      <td>[NH3][Pt]1([NH3])OC(=O)C2(CCC2)C(=O)O1</td>\n",
       "      <td>0</td>\n",
       "    </tr>\n",
       "    <tr>\n",
       "      <th>11</th>\n",
       "      <td>[H][C@@]12C[C@H](O)[C@@]3(C)C(=O)[C@H](O)C4=C(...</td>\n",
       "      <td>0</td>\n",
       "    </tr>\n",
       "    <tr>\n",
       "      <th>...</th>\n",
       "      <td>...</td>\n",
       "      <td>...</td>\n",
       "    </tr>\n",
       "    <tr>\n",
       "      <th>17</th>\n",
       "      <td>C=CC(=O)NC(CC)c1ccc(-c2ccc([C@H](C)C(=O)Nc3cc(...</td>\n",
       "      <td>0</td>\n",
       "    </tr>\n",
       "    <tr>\n",
       "      <th>18</th>\n",
       "      <td>CN[C@@H]1C[C@H]2O[C@@](C)([C@@H]1OC)n1c3ccccc3...</td>\n",
       "      <td>0</td>\n",
       "    </tr>\n",
       "    <tr>\n",
       "      <th>19</th>\n",
       "      <td>CN1CC[C@H](c2c(O)cc(O)c3c(=O)cc(-c4ccccc4Cl)oc...</td>\n",
       "      <td>0</td>\n",
       "    </tr>\n",
       "    <tr>\n",
       "      <th>20</th>\n",
       "      <td>Cn1cnc2c(NCc3ccccc3)nc(NCCO)nc21</td>\n",
       "      <td>0</td>\n",
       "    </tr>\n",
       "    <tr>\n",
       "      <th>21</th>\n",
       "      <td>CC(C)n1cc(-c2ccnc3[nH]c(C4CCN(CC(=O)N(C)C)CC4)...</td>\n",
       "      <td>0</td>\n",
       "    </tr>\n",
       "  </tbody>\n",
       "</table>\n",
       "<p>2116 rows × 2 columns</p>\n",
       "</div>"
      ],
      "text/plain": [
       "                                               smiles  label\n",
       "0   COC1=C2C(=O)C3=C(C(O)=C4C[C@](O)(C[C@H](O[C@H]...      0\n",
       "1   COC1=C2C(=O)C3=C(C(O)=C4C[C@](O)(C[C@H](O[C@H]...      0\n",
       "8              [NH3][Pt]1([NH3])OC(=O)C2(CCC2)C(=O)O1      0\n",
       "9              [NH3][Pt]1([NH3])OC(=O)C2(CCC2)C(=O)O1      0\n",
       "11  [H][C@@]12C[C@H](O)[C@@]3(C)C(=O)[C@H](O)C4=C(...      0\n",
       "..                                                ...    ...\n",
       "17  C=CC(=O)NC(CC)c1ccc(-c2ccc([C@H](C)C(=O)Nc3cc(...      0\n",
       "18  CN[C@@H]1C[C@H]2O[C@@](C)([C@@H]1OC)n1c3ccccc3...      0\n",
       "19  CN1CC[C@H](c2c(O)cc(O)c3c(=O)cc(-c4ccccc4Cl)oc...      0\n",
       "20                   Cn1cnc2c(NCc3ccccc3)nc(NCCO)nc21      0\n",
       "21  CC(C)n1cc(-c2ccnc3[nH]c(C4CCN(CC(=O)N(C)C)CC4)...      0\n",
       "\n",
       "[2116 rows x 2 columns]"
      ]
     },
     "execution_count": 42,
     "metadata": {},
     "output_type": "execute_result"
    }
   ],
   "source": [
    "data"
   ]
  },
  {
   "cell_type": "code",
   "execution_count": 43,
   "id": "598135e4",
   "metadata": {},
   "outputs": [
    {
     "data": {
      "text/plain": [
       "1420"
      ]
     },
     "execution_count": 43,
     "metadata": {},
     "output_type": "execute_result"
    }
   ],
   "source": [
    "data['smiles'].nunique()"
   ]
  },
  {
   "cell_type": "code",
   "execution_count": 46,
   "id": "3b82e07c",
   "metadata": {},
   "outputs": [],
   "source": [
    "df = data.drop_duplicates()"
   ]
  },
  {
   "cell_type": "code",
   "execution_count": 47,
   "id": "a0ae1a9a",
   "metadata": {},
   "outputs": [
    {
     "data": {
      "text/html": [
       "<div>\n",
       "<style scoped>\n",
       "    .dataframe tbody tr th:only-of-type {\n",
       "        vertical-align: middle;\n",
       "    }\n",
       "\n",
       "    .dataframe tbody tr th {\n",
       "        vertical-align: top;\n",
       "    }\n",
       "\n",
       "    .dataframe thead th {\n",
       "        text-align: right;\n",
       "    }\n",
       "</style>\n",
       "<table border=\"1\" class=\"dataframe\">\n",
       "  <thead>\n",
       "    <tr style=\"text-align: right;\">\n",
       "      <th></th>\n",
       "      <th>smiles</th>\n",
       "      <th>label</th>\n",
       "    </tr>\n",
       "  </thead>\n",
       "  <tbody>\n",
       "    <tr>\n",
       "      <th>0</th>\n",
       "      <td>COC1=C2C(=O)C3=C(C(O)=C4C[C@](O)(C[C@H](O[C@H]...</td>\n",
       "      <td>0</td>\n",
       "    </tr>\n",
       "    <tr>\n",
       "      <th>8</th>\n",
       "      <td>[NH3][Pt]1([NH3])OC(=O)C2(CCC2)C(=O)O1</td>\n",
       "      <td>0</td>\n",
       "    </tr>\n",
       "    <tr>\n",
       "      <th>11</th>\n",
       "      <td>[H][C@@]12C[C@H](O)[C@@]3(C)C(=O)[C@H](O)C4=C(...</td>\n",
       "      <td>0</td>\n",
       "    </tr>\n",
       "    <tr>\n",
       "      <th>13</th>\n",
       "      <td>[H].O.[Na]</td>\n",
       "      <td>0</td>\n",
       "    </tr>\n",
       "    <tr>\n",
       "      <th>137</th>\n",
       "      <td>CN[C@@H]1C[C@H]2O[C@@](C)([C@@H]1OC)N1C3=C(C=C...</td>\n",
       "      <td>0</td>\n",
       "    </tr>\n",
       "    <tr>\n",
       "      <th>...</th>\n",
       "      <td>...</td>\n",
       "      <td>...</td>\n",
       "    </tr>\n",
       "    <tr>\n",
       "      <th>16</th>\n",
       "      <td>Cc1ccc([N+](=O)[O-])cc1S(=O)(=O)N(C)/N=C/c1cnn...</td>\n",
       "      <td>0</td>\n",
       "    </tr>\n",
       "    <tr>\n",
       "      <th>17</th>\n",
       "      <td>C=CC(=O)NC(CC)c1ccc(-c2ccc([C@H](C)C(=O)Nc3cc(...</td>\n",
       "      <td>0</td>\n",
       "    </tr>\n",
       "    <tr>\n",
       "      <th>18</th>\n",
       "      <td>CN[C@@H]1C[C@H]2O[C@@](C)([C@@H]1OC)n1c3ccccc3...</td>\n",
       "      <td>0</td>\n",
       "    </tr>\n",
       "    <tr>\n",
       "      <th>20</th>\n",
       "      <td>Cn1cnc2c(NCc3ccccc3)nc(NCCO)nc21</td>\n",
       "      <td>0</td>\n",
       "    </tr>\n",
       "    <tr>\n",
       "      <th>21</th>\n",
       "      <td>CC(C)n1cc(-c2ccnc3[nH]c(C4CCN(CC(=O)N(C)C)CC4)...</td>\n",
       "      <td>0</td>\n",
       "    </tr>\n",
       "  </tbody>\n",
       "</table>\n",
       "<p>1569 rows × 2 columns</p>\n",
       "</div>"
      ],
      "text/plain": [
       "                                                smiles  label\n",
       "0    COC1=C2C(=O)C3=C(C(O)=C4C[C@](O)(C[C@H](O[C@H]...      0\n",
       "8               [NH3][Pt]1([NH3])OC(=O)C2(CCC2)C(=O)O1      0\n",
       "11   [H][C@@]12C[C@H](O)[C@@]3(C)C(=O)[C@H](O)C4=C(...      0\n",
       "13                                          [H].O.[Na]      0\n",
       "137  CN[C@@H]1C[C@H]2O[C@@](C)([C@@H]1OC)N1C3=C(C=C...      0\n",
       "..                                                 ...    ...\n",
       "16   Cc1ccc([N+](=O)[O-])cc1S(=O)(=O)N(C)/N=C/c1cnn...      0\n",
       "17   C=CC(=O)NC(CC)c1ccc(-c2ccc([C@H](C)C(=O)Nc3cc(...      0\n",
       "18   CN[C@@H]1C[C@H]2O[C@@](C)([C@@H]1OC)n1c3ccccc3...      0\n",
       "20                    Cn1cnc2c(NCc3ccccc3)nc(NCCO)nc21      0\n",
       "21   CC(C)n1cc(-c2ccnc3[nH]c(C4CCN(CC(=O)N(C)C)CC4)...      0\n",
       "\n",
       "[1569 rows x 2 columns]"
      ]
     },
     "execution_count": 47,
     "metadata": {},
     "output_type": "execute_result"
    }
   ],
   "source": [
    "df"
   ]
  },
  {
   "cell_type": "code",
   "execution_count": 49,
   "id": "bb209ef5",
   "metadata": {},
   "outputs": [
    {
     "data": {
      "text/html": [
       "<div>\n",
       "<style scoped>\n",
       "    .dataframe tbody tr th:only-of-type {\n",
       "        vertical-align: middle;\n",
       "    }\n",
       "\n",
       "    .dataframe tbody tr th {\n",
       "        vertical-align: top;\n",
       "    }\n",
       "\n",
       "    .dataframe thead th {\n",
       "        text-align: right;\n",
       "    }\n",
       "</style>\n",
       "<table border=\"1\" class=\"dataframe\">\n",
       "  <thead>\n",
       "    <tr style=\"text-align: right;\">\n",
       "      <th></th>\n",
       "      <th>smiles</th>\n",
       "    </tr>\n",
       "    <tr>\n",
       "      <th>label</th>\n",
       "      <th></th>\n",
       "    </tr>\n",
       "  </thead>\n",
       "  <tbody>\n",
       "    <tr>\n",
       "      <th>0</th>\n",
       "      <td>1256</td>\n",
       "    </tr>\n",
       "    <tr>\n",
       "      <th>1</th>\n",
       "      <td>313</td>\n",
       "    </tr>\n",
       "  </tbody>\n",
       "</table>\n",
       "</div>"
      ],
      "text/plain": [
       "       smiles\n",
       "label        \n",
       "0        1256\n",
       "1         313"
      ]
     },
     "execution_count": 49,
     "metadata": {},
     "output_type": "execute_result"
    }
   ],
   "source": [
    "df.groupby(by='label').count()"
   ]
  },
  {
   "cell_type": "markdown",
   "id": "aa3ea2d8",
   "metadata": {},
   "source": [
    "# Сохранение\n",
    "\n",
    "События в блоке кода:\n",
    "\n",
    "- Формирование датасета\n",
    "- Сохранение в формате .csv"
   ]
  },
  {
   "cell_type": "code",
   "execution_count": 50,
   "id": "7df5cd96",
   "metadata": {},
   "outputs": [],
   "source": [
    "df.to_csv('data.csv')"
   ]
  }
 ],
 "metadata": {
  "kernelspec": {
   "display_name": "Python 3 (ipykernel)",
   "language": "python",
   "name": "python3"
  },
  "language_info": {
   "codemirror_mode": {
    "name": "ipython",
    "version": 3
   },
   "file_extension": ".py",
   "mimetype": "text/x-python",
   "name": "python",
   "nbconvert_exporter": "python",
   "pygments_lexer": "ipython3",
   "version": "3.9.13"
  }
 },
 "nbformat": 4,
 "nbformat_minor": 5
}
